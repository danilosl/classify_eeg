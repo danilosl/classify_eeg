{
  "nbformat": 4,
  "nbformat_minor": 0,
  "metadata": {
    "colab": {
      "provenance": []
    },
    "kernelspec": {
      "name": "python3",
      "display_name": "Python 3"
    },
    "language_info": {
      "name": "python"
    }
  },
  "cells": [
    {
      "cell_type": "markdown",
      "source": [
        "##**Pré-Processamento de Dados**\n",
        "Tratando o Dataset BCICIV_2A\n",
        "\n",
        "BCI Competition 2008 - Graz data set A"
      ],
      "metadata": {
        "id": "5NYq9CjTcuL0"
      }
    },
    {
      "cell_type": "code",
      "source": [
        "# importações padrão\n",
        "import numpy as np\n",
        "import scipy.io"
      ],
      "metadata": {
        "id": "77dqYNJ87Gkv"
      },
      "execution_count": null,
      "outputs": []
    },
    {
      "cell_type": "code",
      "source": [
        "from google.colab import drive\n",
        "drive.mount('/content/drive')"
      ],
      "metadata": {
        "colab": {
          "base_uri": "https://localhost:8080/"
        },
        "id": "BArXObb7IslJ",
        "outputId": "958ef573-5263-4998-c61f-a42e537d0d14"
      },
      "execution_count": null,
      "outputs": [
        {
          "output_type": "stream",
          "name": "stdout",
          "text": [
            "Mounted at /content/drive\n"
          ]
        }
      ]
    },
    {
      "cell_type": "code",
      "source": [
        "# ==============================================================\n",
        "# Class and Functions\n",
        "# ==============================================================\n",
        "def defining_labels(events, true_labels):\n",
        "  '''\n",
        "    Essa função é dedicada para o conversão dos eventos desconhecidos\n",
        "    em eventos conhecidos, através dos true labels.\n",
        "    Args:\n",
        "      events:(ndarray) array de eventos desconhecidos.\n",
        "      true_labels:(ndarray) array de eventos conhecidos.\n",
        "    Return:\n",
        "      events:(ndarray) array com os eventos corretos definidos.\n",
        "  '''\n",
        "  counter = 0;\n",
        "  for i in range(events.shape[0]):\n",
        "    if events[i] == 783:\n",
        "        if true_labels[counter] == 1:\n",
        "          events[i] = 769\n",
        "        elif true_labels[counter] == 2:\n",
        "          events[i] = 770\n",
        "        elif true_labels[counter] == 3:\n",
        "          events[i] = 771\n",
        "        elif true_labels[counter] == 4:\n",
        "          events[i] = 772\n",
        "        counter+=1\n",
        "\n",
        "def extractor_epochs(eeg, events, position):\n",
        "  '''\n",
        "    Essa função é didicada para realizar a extração das épocas do sinal\n",
        "    de eeg em que ocorrem as imagéticas motoras da mão esquerda e direita.\n",
        "    Args:\n",
        "      eeg:(ndarray) array com os sinais de eeg.\n",
        "      events:(ndarray) array com os eventos (769 - mão esquerda, 770 - mão direita).\n",
        "      position:(ndarray) array de posições dos eventos.\n",
        "    Return:\n",
        "      epochs_eeg:(ndarray) array com os sinais de eeg dividios em épocas.\n",
        "  '''\n",
        "  left_hand, right_hand, sample, trials = 0, 0, 500, 72\n",
        "  epochs_eeg = np.zeros((144, 22, sample))\n",
        "  for i in range(events.shape[0]):\n",
        "      if events[i] == 769:\n",
        "          epochs_eeg[left_hand] = eeg[:22,position[i]+125:position[i]+125+sample]\n",
        "          left_hand += 1\n",
        "      elif events[i] == 770:\n",
        "          epochs_eeg[right_hand+trials] = eeg[:22,position[i]+125:position[i]+125+sample]\n",
        "          right_hand += 1\n",
        "  return epochs_eeg"
      ],
      "metadata": {
        "id": "3EsqNDPcIgoo"
      },
      "execution_count": null,
      "outputs": []
    },
    {
      "cell_type": "code",
      "source": [
        "# ==============================================================\n",
        "# SETUP\n",
        "# ==============================================================\n",
        "suj = 1"
      ],
      "metadata": {
        "id": "uv2qD-jv7HUD"
      },
      "execution_count": null,
      "outputs": []
    },
    {
      "cell_type": "code",
      "execution_count": null,
      "metadata": {
        "id": "2ck4bLEE5D-e"
      },
      "outputs": [],
      "source": [
        "# ==============================================================\n",
        "# DATASET DE TREINAMENTO\n",
        "# ==============================================================\n",
        "# lendo o conjunto de dados de avaliação\n",
        "data_train = scipy.io.loadmat('/content/drive/MyDrive/Colab Notebooks/learn_BCI/Dataset/Treino/A0' + str(suj) + 'T.mat')\n",
        "\n",
        "# armazenandos os eventos desconhecidos\n",
        "event_train = data_train['tipo_evento'].reshape(-1)\n",
        "\n",
        "# armazenandos as posições\n",
        "position_train = data_train['posicao'].reshape(-1)-1\n",
        "\n",
        "# armazenando os sinais\n",
        "eeg_train = data_train['s'].T\n",
        "\n",
        "# extração de épocas\n",
        "epochs_eeg_train = extractor_epochs(eeg_train, event_train, position_train)\n",
        "\n",
        "# salvando os dados pré-processados\n",
        "np.save('A0'+str(suj)+'T',epochs_eeg_train)"
      ]
    },
    {
      "cell_type": "code",
      "source": [
        "epochs_eeg_train.shape"
      ],
      "metadata": {
        "colab": {
          "base_uri": "https://localhost:8080/"
        },
        "id": "e8_K1zgZQ9pk",
        "outputId": "d37da9ae-7df5-4161-96d2-8dcd41ebd1a2"
      },
      "execution_count": null,
      "outputs": [
        {
          "output_type": "execute_result",
          "data": {
            "text/plain": [
              "(144, 22, 500)"
            ]
          },
          "metadata": {},
          "execution_count": 13
        }
      ]
    },
    {
      "cell_type": "code",
      "source": [
        "# ==============================================================\n",
        "# DATASET DE AVALIAÇÃO\n",
        "# ==============================================================\n",
        "# lendo o conjunto de dados de avaliação\n",
        "data_test = scipy.io.loadmat('/content/drive/MyDrive/Colab Notebooks/learn_bcieeg/Dataset/Teste/A0' + str(suj) + 'E.mat')\n",
        "\n",
        "# armazenandos os eventos desconhecidos\n",
        "event_test = data_test['tipo_evento'].reshape(-1)\n",
        "\n",
        "# armazenandos as posições\n",
        "position_test = data_test['posicao'].reshape(-1)-1\n",
        "\n",
        "# armazenando os sinais\n",
        "eeg_test = data_test['s'].T\n",
        "\n",
        "# definindo os eventos desconhecidos\n",
        "true_labels = scipy.io.loadmat('/content/drive/MyDrive/Colab Notebooks/learn_bcieeg/Dataset/Labels/A0' + str(suj) + 'E.mat')['classlabel'].reshape(-1)\n",
        "defining_labels(event_test, true_labels)\n",
        "\n",
        "# extração de épocas\n",
        "epochs_eeg_test = extractor_epochs(eeg_test, event_test, position_test)\n",
        "\n",
        "# salvando os dados pré-processados\n",
        "np.save('A0'+str(suj)+'E',epochs_eeg_test)"
      ],
      "metadata": {
        "id": "qFYdDFFv7Q-d"
      },
      "execution_count": null,
      "outputs": []
    }
  ]
}